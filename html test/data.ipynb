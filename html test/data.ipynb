{
 "cells": [
  {
   "cell_type": "code",
   "execution_count": 13,
   "metadata": {},
   "outputs": [],
   "source": [
    "import pandas as pd\n",
    "import streamlit as st\n",
    "\n",
    "st.title('Marine Fish Data')\n",
    "\n",
    "# Read the CSV file into a DataFrame\n",
    "df = pd.read_csv('./Marine_Fish_Data.csv')\n",
    "\n",
    "# Display the first few rows of the DataFrame\n",
    "df.head()\n",
    "\n",
    "st.table(df.head())\n",
    "st.line_chart(df['Fish_Population'])\n",
    "\n",
    "# Inspect the columns of the DataFrame\n",
    "st.write(df.columns)\n",
    "\n",
    "# Replace 'Average_Size' with an existing column name\n",
    "if 'Average_Size' in df.columns:\n",
    "\tst.line_chart(df['Average_Size'])\n",
    "else:\n",
    "\tst.write(\"Column 'Average_Size' does not exist in the DataFrame.\")"
   ]
  },
  {
   "cell_type": "code",
   "execution_count": 5,
   "metadata": {},
   "outputs": [],
   "source": [
    "#convert the df to html\n",
    "df.to_html('fish_data.html')\n"
   ]
  },
  {
   "cell_type": "code",
   "execution_count": null,
   "metadata": {},
   "outputs": [],
   "source": []
  }
 ],
 "metadata": {
  "kernelspec": {
   "display_name": "base",
   "language": "python",
   "name": "python3"
  },
  "language_info": {
   "codemirror_mode": {
    "name": "ipython",
    "version": 3
   },
   "file_extension": ".py",
   "mimetype": "text/x-python",
   "name": "python",
   "nbconvert_exporter": "python",
   "pygments_lexer": "ipython3",
   "version": "3.12.7"
  }
 },
 "nbformat": 4,
 "nbformat_minor": 2
}
