{
 "cells": [
  {
   "cell_type": "code",
   "execution_count": 2,
   "metadata": {},
   "outputs": [
    {
     "name": "stdout",
     "output_type": "stream",
     "text": [
      "Collecting spotipy\n",
      "  Downloading spotipy-2.24.0-py3-none-any.whl.metadata (4.9 kB)\n",
      "Collecting redis>=3.5.3 (from spotipy)\n",
      "  Downloading redis-5.2.1-py3-none-any.whl.metadata (9.1 kB)\n",
      "Requirement already satisfied: requests>=2.25.0 in c:\\users\\schol\\anaconda3\\lib\\site-packages (from spotipy) (2.32.3)\n",
      "Requirement already satisfied: urllib3>=1.26.0 in c:\\users\\schol\\anaconda3\\lib\\site-packages (from spotipy) (2.2.3)\n",
      "Requirement already satisfied: charset-normalizer<4,>=2 in c:\\users\\schol\\anaconda3\\lib\\site-packages (from requests>=2.25.0->spotipy) (3.3.2)\n",
      "Requirement already satisfied: idna<4,>=2.5 in c:\\users\\schol\\anaconda3\\lib\\site-packages (from requests>=2.25.0->spotipy) (3.7)\n",
      "Requirement already satisfied: certifi>=2017.4.17 in c:\\users\\schol\\anaconda3\\lib\\site-packages (from requests>=2.25.0->spotipy) (2024.8.30)\n",
      "Downloading spotipy-2.24.0-py3-none-any.whl (30 kB)\n",
      "Downloading redis-5.2.1-py3-none-any.whl (261 kB)\n",
      "Installing collected packages: redis, spotipy\n",
      "Successfully installed redis-5.2.1 spotipy-2.24.0\n",
      "Note: you may need to restart the kernel to use updated packages.\n"
     ]
    }
   ],
   "source": [
    "pip install spotipy"
   ]
  },
  {
   "cell_type": "code",
   "execution_count": 3,
   "metadata": {},
   "outputs": [
    {
     "name": "stdout",
     "output_type": "stream",
     "text": [
      "Playlist 'My Awesome Playlist' created successfully!\n"
     ]
    }
   ],
   "source": [
    "import spotipy\n",
    "from spotipy.oauth2 import SpotifyOAuth\n",
    "\n",
    "# Your Spotify credentials\n",
    "SPOTIPY_CLIENT_ID = 'xx'\n",
    "SPOTIPY_CLIENT_SECRET = 'xx'\n",
    "SPOTIPY_REDIRECT_URI = 'http://localhost:8888/callback'\n",
    "\n",
    "# Authenticate with Spotify\n",
    "sp = spotipy.Spotify(auth_manager=SpotifyOAuth(client_id=SPOTIPY_CLIENT_ID,\n",
    "                                               client_secret=SPOTIPY_CLIENT_SECRET,\n",
    "                                               redirect_uri=SPOTIPY_REDIRECT_URI,\n",
    "                                               scope=\"playlist-modify-public\"))\n",
    "\n",
    "# Get the current user's ID\n",
    "user_id = sp.me()['id']\n",
    "\n",
    "# Create a new playlist\n",
    "playlist_name = \"My Awesome Playlist\"\n",
    "playlist_description = \"A collection of my favorite songs\"\n",
    "playlist = sp.user_playlist_create(user_id, playlist_name, description=playlist_description)\n",
    "\n",
    "# Add tracks to the playlist\n",
    "track_ids = ['spotify:track:7ouMYWpwJ422jRcDASZB7P', 'spotify:track:4cOdK2wGLETKBW3PvgPWqT']\n",
    "sp.playlist_add_items(playlist['id'], track_ids)\n",
    "\n",
    "print(f\"Playlist '{playlist_name}' created successfully!\")\n"
   ]
  },
  {
   "cell_type": "code",
   "execution_count": null,
   "metadata": {},
   "outputs": [
    {
     "ename": "AttributeError",
     "evalue": "module 'streamlit' has no attribute 'run'",
     "output_type": "error",
     "traceback": [
      "\u001b[1;31m---------------------------------------------------------------------------\u001b[0m",
      "\u001b[1;31mAttributeError\u001b[0m                            Traceback (most recent call last)",
      "Cell \u001b[1;32mIn[5], line 34\u001b[0m\n\u001b[0;32m     31\u001b[0m             st\u001b[38;5;241m.\u001b[39mwrite(\u001b[38;5;124m\"\u001b[39m\u001b[38;5;124mNo results found.\u001b[39m\u001b[38;5;124m\"\u001b[39m)\n\u001b[0;32m     33\u001b[0m \u001b[38;5;28;01mif\u001b[39;00m \u001b[38;5;18m__name__\u001b[39m \u001b[38;5;241m==\u001b[39m \u001b[38;5;124m\"\u001b[39m\u001b[38;5;124m__main__\u001b[39m\u001b[38;5;124m\"\u001b[39m:\n\u001b[1;32m---> 34\u001b[0m     st\u001b[38;5;241m.\u001b[39mrun()\n",
      "\u001b[1;31mAttributeError\u001b[0m: module 'streamlit' has no attribute 'run'"
     ]
    }
   ],
   "source": [
    "import streamlit as st\n",
    "import spotipy\n",
    "from spotipy.oauth2 import SpotifyClientCredentials\n",
    "\n",
    "# Set up Spotify API credentials\n",
    "SPOTIPY_CLIENT_ID = '55a72fd6e0fb47e5906e08eea174df97'\n",
    "SPOTIPY_CLIENT_SECRET = '8c25ff6abef94a10805f5f4e1ceff1a5'\n",
    "\n",
    "# Authenticate with Spotify\n",
    "sp = spotipy.Spotify(auth_manager=SpotifyClientCredentials(\n",
    "    client_id=SPOTIPY_CLIENT_ID,\n",
    "    client_secret=SPOTIPY_CLIENT_SECRET\n",
    "))\n",
    "\n",
    "# Streamlit app\n",
    "st.title('Spotify Song Search')\n",
    "\n",
    "# Search box\n",
    "search_query = st.text_input('Enter song title')\n",
    "\n",
    "# Search button\n",
    "if st.button('Search'):\n",
    "    if search_query:\n",
    "        results = sp.search(q=search_query, type='track', limit=10)\n",
    "        tracks = results['tracks']['items']\n",
    "        if tracks:\n",
    "            for idx, track in enumerate(tracks):\n",
    "                st.write(f\"{idx+1}. {track['name']} by {', '.join([artist['name'] for artist in track['artists']])}\")\n",
    "                st.write(f\"[Listen on Spotify]({track['external_urls']['spotify']})\")\n",
    "        else:\n",
    "            st.write(\"No results found.\")\n"
   ]
  },
  {
   "cell_type": "code",
   "execution_count": null,
   "metadata": {},
   "outputs": [],
   "source": []
  }
 ],
 "metadata": {
  "kernelspec": {
   "display_name": "base",
   "language": "python",
   "name": "python3"
  },
  "language_info": {
   "codemirror_mode": {
    "name": "ipython",
    "version": 3
   },
   "file_extension": ".py",
   "mimetype": "text/x-python",
   "name": "python",
   "nbconvert_exporter": "python",
   "pygments_lexer": "ipython3",
   "version": "3.12.7"
  }
 },
 "nbformat": 4,
 "nbformat_minor": 2
}
