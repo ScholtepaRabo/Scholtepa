{
 "cells": [
  {
   "cell_type": "code",
   "execution_count": 2,
   "metadata": {},
   "outputs": [
    {
     "name": "stdout",
     "output_type": "stream",
     "text": [
      "Requirement already satisfied: requests in c:\\users\\schol\\anaconda3\\lib\\site-packages (2.32.3)\n",
      "Requirement already satisfied: charset-normalizer<4,>=2 in c:\\users\\schol\\anaconda3\\lib\\site-packages (from requests) (3.3.2)\n",
      "Requirement already satisfied: idna<4,>=2.5 in c:\\users\\schol\\anaconda3\\lib\\site-packages (from requests) (3.7)\n",
      "Requirement already satisfied: urllib3<3,>=1.21.1 in c:\\users\\schol\\anaconda3\\lib\\site-packages (from requests) (2.2.3)\n",
      "Requirement already satisfied: certifi>=2017.4.17 in c:\\users\\schol\\anaconda3\\lib\\site-packages (from requests) (2024.8.30)\n",
      "Note: you may need to restart the kernel to use updated packages.\n"
     ]
    }
   ],
   "source": [
    "pip install requests"
   ]
  },
  {
   "cell_type": "code",
   "execution_count": 3,
   "metadata": {
    "_cell_guid": "79c7e3d0-c299-4dcb-8224-4455121ee9b0",
    "_uuid": "d629ff2d2480ee46fbb7e2d37f6b5fab8052498a",
    "trusted": true
   },
   "outputs": [],
   "source": [
    "import requests\n",
    "import urllib3\n",
    "urllib3.disable_warnings(urllib3.exceptions.InsecureRequestWarning)"
   ]
  },
  {
   "cell_type": "code",
   "execution_count": 4,
   "metadata": {
    "trusted": true
   },
   "outputs": [],
   "source": [
    "auth_url = \"https://www.strava.com/oauth/token\"\n",
    "activites_url = \"https://www.strava.com/api/v3/athlete/activities\"\n",
    "\n",
    "#replace variables with values for your account\n",
    "payload = {\n",
    "    'client_id': \"106601\",\n",
    "    'client_secret': '9a38b8e0bf43bb03eade5c23d9c8c3711318c0b2',\n",
    "    'refresh_token': 'd52abdcad86ebdd81a63936ad1d929d859c5bd58',\n",
    "    'grant_type': \"refresh_token\",\n",
    "    'f': 'json'\n",
    "}"
   ]
  },
  {
   "cell_type": "code",
   "execution_count": 5,
   "metadata": {
    "trusted": true
   },
   "outputs": [
    {
     "name": "stdout",
     "output_type": "stream",
     "text": [
      "Requesting Token...\n",
      "\n",
      "Access Token = 68c478e9f54ff5b3886ae2d225d6c539f8cd1690\n",
      "\n"
     ]
    }
   ],
   "source": [
    "print(\"Requesting Token...\\n\")\n",
    "res = requests.post(auth_url, data=payload, verify=False)\n",
    "access_token = res.json()['access_token']\n",
    "print(\"Access Token = {}\\n\".format(access_token))\n"
   ]
  },
  {
   "cell_type": "code",
   "execution_count": 10,
   "metadata": {
    "trusted": true
   },
   "outputs": [
    {
     "name": "stdout",
     "output_type": "stream",
     "text": [
      "Request error: 401 Client Error: Unauthorized for url: https://www.strava.com/api/v3/athlete/activities?per_page=200&page=1\n"
     ]
    }
   ],
   "source": [
    "# Define activites_url\n",
    "activites_url = 'https://www.strava.com/api/v3/athlete/activities'\n",
    "\n",
    "# Ensure access_token is properly obtained\n",
    "header = {'Authorization': 'Bearer ' + access_token}\n",
    "param = {'per_page': 200, 'page': 1}\n",
    "\n",
    "try:\n",
    "    # Make the API request\n",
    "    response = requests.get(activites_url, headers=header, params=param)\n",
    "    \n",
    "    # Check if request was successful\n",
    "    response.raise_for_status()\n",
    "    \n",
    "    # Parse JSON response\n",
    "    my_dataset = response.json()\n",
    "    \n",
    "    # Check if dataset is a list and not empty\n",
    "    if isinstance(my_dataset, list) and len(my_dataset) > 0:\n",
    "        first_activity = my_dataset[0]\n",
    "        if \"name\" in first_activity and \"map\" in first_activity and \"summary_polyline\" in first_activity[\"map\"]:\n",
    "            print(first_activity[\"name\"])\n",
    "            print(first_activity[\"map\"][\"summary_polyline\"])\n",
    "        else:\n",
    "            print(\"Required keys not found in the response\")\n",
    "    else:\n",
    "        print(\"No data found in the response or response is not a list\")\n",
    "        \n",
    "except requests.exceptions.RequestException as e:\n",
    "    print(f\"Request error: {e}\")\n",
    "except KeyError as e:\n",
    "    print(f\"Key error: {e} not found in the response\")\n",
    "except IndexError:\n",
    "    print(\"Dataset is empty or index out of range\")\n",
    "except Exception as e:\n",
    "    print(f\"An unexpected error occurred: {e}\")"
   ]
  },
  {
   "cell_type": "code",
   "execution_count": 11,
   "metadata": {},
   "outputs": [
    {
     "ename": "SyntaxError",
     "evalue": "incomplete input (3750058806.py, line 15)",
     "output_type": "error",
     "traceback": [
      "\u001b[1;36m  Cell \u001b[1;32mIn[11], line 15\u001b[1;36m\u001b[0m\n\u001b[1;33m    # Retry request with new token\u001b[0m\n\u001b[1;37m                                  ^\u001b[0m\n\u001b[1;31mSyntaxError\u001b[0m\u001b[1;31m:\u001b[0m incomplete input\n"
     ]
    }
   ],
   "source": [
    "import requests\n",
    "\n",
    "# Proper header formatting\n",
    "headers = {\n",
    "    'Authorization': f'Bearer {access_token}',\n",
    "    'Content-Type': 'application/json'\n",
    "}\n",
    "\n",
    "# Make authenticated request\n",
    "response = requests.get(url, headers=headers)\n",
    "\n",
    "# Check for 401 status\n",
    "if response.status_code == 401:\n",
    "    # Request new access token\n",
    "    # Retry request with new token\n"
   ]
  },
  {
   "cell_type": "code",
   "execution_count": null,
   "metadata": {
    "trusted": true
   },
   "outputs": [
    {
     "ename": "ImportError",
     "evalue": "cannot import name 'json_normalize' from 'pandas.io.json' (c:\\Users\\schol\\anaconda3\\Lib\\site-packages\\pandas\\io\\json\\__init__.py)",
     "output_type": "error",
     "traceback": [
      "\u001b[1;31m---------------------------------------------------------------------------\u001b[0m",
      "\u001b[1;31mImportError\u001b[0m                               Traceback (most recent call last)",
      "Cell \u001b[1;32mIn[6], line 2\u001b[0m\n\u001b[0;32m      1\u001b[0m \u001b[38;5;28;01mimport\u001b[39;00m \u001b[38;5;21;01mpandas\u001b[39;00m \u001b[38;5;28;01mas\u001b[39;00m \u001b[38;5;21;01mpd\u001b[39;00m\n\u001b[1;32m----> 2\u001b[0m \u001b[38;5;28;01mfrom\u001b[39;00m \u001b[38;5;21;01mpandas\u001b[39;00m\u001b[38;5;21;01m.\u001b[39;00m\u001b[38;5;21;01mio\u001b[39;00m\u001b[38;5;21;01m.\u001b[39;00m\u001b[38;5;21;01mjson\u001b[39;00m \u001b[38;5;28;01mimport\u001b[39;00m json_normalize\n",
      "\u001b[1;31mImportError\u001b[0m: cannot import name 'json_normalize' from 'pandas.io.json' (c:\\Users\\schol\\anaconda3\\Lib\\site-packages\\pandas\\io\\json\\__init__.py)"
     ]
    }
   ],
   "source": [
    "import pandas as pd\n",
    "from pandas.io.json import json_normalize"
   ]
  },
  {
   "cell_type": "code",
   "execution_count": null,
   "metadata": {
    "trusted": true
   },
   "outputs": [],
   "source": [
    "activities = json_normalize(my_dataset)"
   ]
  },
  {
   "cell_type": "code",
   "execution_count": null,
   "metadata": {
    "trusted": true
   },
   "outputs": [],
   "source": [
    "#Explore dataset\n",
    "\n",
    "#activities.columns"
   ]
  },
  {
   "cell_type": "code",
   "execution_count": null,
   "metadata": {
    "trusted": true
   },
   "outputs": [],
   "source": [
    "#Create new dataframe with only columns I care about\n",
    "cols = ['name', 'upload_id', 'type', 'distance', 'moving_time',   \n",
    "         'average_speed', 'max_speed','total_elevation_gain',\n",
    "         'start_date_local'\n",
    "       ]\n",
    "\n",
    "activities = activities[cols]\n",
    "\n",
    "#Break date into start time and date\n",
    "activities['start_date_local'] = pd.to_datetime(activities['start_date_local'])\n",
    "activities['start_time'] = activities['start_date_local'].dt.time\n",
    "activities['start_date_local'] = activities['start_date_local'].dt.date\n",
    "\n",
    "activities.head(5)"
   ]
  },
  {
   "cell_type": "code",
   "execution_count": null,
   "metadata": {
    "trusted": true
   },
   "outputs": [],
   "source": [
    "activities['type'].value_counts()"
   ]
  },
  {
   "cell_type": "code",
   "execution_count": null,
   "metadata": {
    "trusted": true
   },
   "outputs": [],
   "source": [
    "#download data\n",
    "#activities.to_csv('activities.csv',index=False)"
   ]
  },
  {
   "cell_type": "code",
   "execution_count": null,
   "metadata": {
    "trusted": true
   },
   "outputs": [],
   "source": [
    "#graphs"
   ]
  },
  {
   "cell_type": "code",
   "execution_count": null,
   "metadata": {
    "trusted": true
   },
   "outputs": [],
   "source": [
    "import seaborn as sns"
   ]
  },
  {
   "cell_type": "code",
   "execution_count": null,
   "metadata": {
    "trusted": true
   },
   "outputs": [],
   "source": [
    "runs = activities.loc[activities['type'] == 'Run'] \n",
    "runs.head(5)"
   ]
  },
  {
   "cell_type": "code",
   "execution_count": null,
   "metadata": {
    "trusted": true
   },
   "outputs": [],
   "source": [
    "sns.set(style=\"ticks\", context=\"talk\")\n",
    "sns.scatterplot(x='distance', y = 'average_speed', data = runs).set_title(\"Average Speed vs Distance\")\n"
   ]
  },
  {
   "cell_type": "code",
   "execution_count": null,
   "metadata": {
    "trusted": true
   },
   "outputs": [],
   "source": [
    "sns.scatterplot(x='distance', y = 'max_speed', data = runs).set_title(\"Max Speed vs Distance\")\n"
   ]
  },
  {
   "cell_type": "code",
   "execution_count": null,
   "metadata": {
    "trusted": true
   },
   "outputs": [],
   "source": [
    "import matplotlib.pyplot as plt\n",
    "import numpy as np"
   ]
  },
  {
   "cell_type": "code",
   "execution_count": null,
   "metadata": {
    "trusted": true
   },
   "outputs": [],
   "source": [
    "#max speed over time\n",
    "fig = plt.figure()\n",
    "ax = fig.add_subplot(111)\n",
    "x = np.asarray(runs.start_date_local)\n",
    "y = np.asarray(runs.max_speed)\n",
    "ax.plot_date(x, y)\n",
    "ax.set_title('Max Speed over Time')\n",
    "fig.autofmt_xdate(rotation=45)\n",
    "fig.tight_layout()\n",
    "fig.show()"
   ]
  },
  {
   "cell_type": "code",
   "execution_count": null,
   "metadata": {
    "trusted": true
   },
   "outputs": [],
   "source": [
    "fig = plt.figure()\n",
    "ax1 = fig.add_subplot(111)\n",
    "x = np.asarray(runs.start_date_local)\n",
    "y = np.asarray(runs.average_speed)\n",
    "ax1.plot_date(x, y)\n",
    "ax1.set_title('Average Speed over Time')\n",
    "fig.autofmt_xdate(rotation=45)\n",
    "fig.tight_layout()\n",
    "fig.show()"
   ]
  },
  {
   "cell_type": "code",
   "execution_count": null,
   "metadata": {
    "trusted": true
   },
   "outputs": [],
   "source": [
    "#Bike rides faster in Rockport or DC?"
   ]
  },
  {
   "cell_type": "code",
   "execution_count": null,
   "metadata": {
    "trusted": true
   },
   "outputs": [],
   "source": [
    "rides = activities.loc[activities['type'] == 'Ride'] \n",
    "rides.head(5)"
   ]
  },
  {
   "cell_type": "code",
   "execution_count": null,
   "metadata": {
    "trusted": true
   },
   "outputs": [],
   "source": [
    "from datetime import datetime"
   ]
  },
  {
   "cell_type": "code",
   "execution_count": null,
   "metadata": {
    "trusted": true
   },
   "outputs": [],
   "source": [
    "#add home / dc classification 2020-06-27 is date switch\n",
    "dc_date= '2020-06-27'\n",
    "dc_date = datetime.strptime(dc_date, '%Y-%m-%d').date()\n",
    "rides['start_date_local'] = pd.to_datetime(rides['start_date_local']).dt.date\n",
    "rides['dc'] = np.where(rides['start_date_local'] < dc_date, 'true', 'false')\n",
    "\n"
   ]
  },
  {
   "cell_type": "code",
   "execution_count": null,
   "metadata": {
    "trusted": true
   },
   "outputs": [],
   "source": [
    "dc = rides.loc[rides['dc'] == 'true']\n",
    "home = rides.loc[rides['dc'] == 'false']\n",
    "dc_speed = round(dc['average_speed'].mean() * 2.237, 2)\n",
    "home_speed = round(home['average_speed'].mean() * 2.237, 2)\n",
    "dc_max_speed = round(dc['max_speed'].mean()* 2.237, 2)\n",
    "home_max_speed = round(home['max_speed'].mean()* 2.237, 2)\n",
    "print(\"Average DC Speed: \" + str(dc_speed) + \" | Average DC Max Speed: \" + str(dc_max_speed) + '\\n'\n",
    "      + \"Average Home Speed: \" + str(home_speed) + \" | Average Home Max Speed: \" + str(home_max_speed))\n",
    "\n",
    "\n",
    "#time is in seconds, distance is in meters\n",
    "#m/s to mph 1m/s to 2.237 mph"
   ]
  },
  {
   "cell_type": "code",
   "execution_count": null,
   "metadata": {
    "trusted": true
   },
   "outputs": [],
   "source": [
    "percent_increase_average = round((home_speed - dc_speed) * 100 / dc_speed,2)\n",
    "percent_increase_average\n"
   ]
  },
  {
   "cell_type": "code",
   "execution_count": null,
   "metadata": {
    "trusted": true
   },
   "outputs": [],
   "source": [
    "percent_increase_average_max = round((home_max_speed - dc_max_speed) * 100 / dc_max_speed,2)\n",
    "percent_increase_average_max "
   ]
  },
  {
   "cell_type": "code",
   "execution_count": null,
   "metadata": {
    "trusted": true
   },
   "outputs": [],
   "source": [
    "#elevation change vs average speed"
   ]
  },
  {
   "cell_type": "code",
   "execution_count": null,
   "metadata": {
    "trusted": true
   },
   "outputs": [],
   "source": [
    "sns.scatterplot(x='total_elevation_gain', y = 'average_speed', data = rides).set_title(\"Speed vs Elevation Gain\")"
   ]
  },
  {
   "cell_type": "code",
   "execution_count": null,
   "metadata": {
    "trusted": true
   },
   "outputs": [],
   "source": []
  }
 ],
 "metadata": {
  "kernelspec": {
   "display_name": "base",
   "language": "python",
   "name": "python3"
  },
  "language_info": {
   "codemirror_mode": {
    "name": "ipython",
    "version": 3
   },
   "file_extension": ".py",
   "mimetype": "text/x-python",
   "name": "python",
   "nbconvert_exporter": "python",
   "pygments_lexer": "ipython3",
   "version": "3.12.7"
  }
 },
 "nbformat": 4,
 "nbformat_minor": 4
}
